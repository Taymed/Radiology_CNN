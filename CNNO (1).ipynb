{
  "nbformat": 4,
  "nbformat_minor": 0,
  "metadata": {
    "colab": {
      "name": "CNNO.ipynb",
      "provenance": [],
      "collapsed_sections": []
    },
    "language_info": {
      "codemirror_mode": {
        "name": "ipython",
        "version": 3
      },
      "file_extension": ".py",
      "mimetype": "text/x-python",
      "name": "python",
      "nbconvert_exporter": "python",
      "pygments_lexer": "ipython3",
      "version": "3.6.7"
    },
    "kernelspec": {
      "name": "python3",
      "display_name": "Python 3"
    },
    "accelerator": "GPU"
  },
  "cells": [
    {
      "cell_type": "markdown",
      "metadata": {
        "id": "lTLxqenO_jUc",
        "colab_type": "text"
      },
      "source": [
        "# Importation des bibliothéques"
      ]
    },
    {
      "cell_type": "markdown",
      "metadata": {
        "id": "sckP96fv_jUd",
        "colab_type": "text"
      },
      "source": [
        "## Remarques\n",
        " * Dropout : \n",
        "             met à 0 la valeur de certains neuronne de façon aléatoire à \n",
        "             chaque passe de sorte à éviter la codépendance\n",
        " * Flatten : \n",
        "             sert à transformet le tensor de nos images en veteurs simples \n",
        "             à la suite de la conolution\n",
        "             \n",
        "             "
      ]
    },
    {
      "cell_type": "code",
      "metadata": {
        "id": "BFYUSit0_jUe",
        "colab_type": "code",
        "colab": {}
      },
      "source": [
        "import tensorflow as tf\n",
        "from tensorflow.keras.models import Sequential\n",
        "from tensorflow.keras.layers import Dense , Dropout , Activation , Flatten , Conv2D ,MaxPooling2D\n",
        "from tensorflow.keras import Model\n",
        "from tensorflow.keras import layers\n",
        "from tensorflow.keras.preprocessing.image import ImageDataGenerator\n",
        "from tensorflow.keras.callbacks import TensorBoard\n",
        "import os\n",
        "import pickle\n",
        "import numpy as np\n",
        "import cv2\n",
        "import time"
      ],
      "execution_count": 0,
      "outputs": []
    },
    {
      "cell_type": "markdown",
      "metadata": {
        "id": "_FCr-6ZAG2bp",
        "colab_type": "text"
      },
      "source": [
        "#Nommer le model\n",
        "création d'une variable nom ayant pour but de géner un nouveau nom pour chaque model que l'on compte sauvegarder"
      ]
    },
    {
      "cell_type": "code",
      "metadata": {
        "id": "A2hMQXXqGytG",
        "colab_type": "code",
        "colab": {}
      },
      "source": [
        "Nom = \"CNN-classifaction-Radio-{}\".format(int(time.time()))"
      ],
      "execution_count": 0,
      "outputs": []
    },
    {
      "cell_type": "markdown",
      "metadata": {
        "id": "HwE7T8o7HWo7",
        "colab_type": "text"
      },
      "source": [
        "#Charger notre Drive"
      ]
    },
    {
      "cell_type": "code",
      "metadata": {
        "id": "0o5WAP7S4qBP",
        "colab_type": "code",
        "outputId": "fe303ac6-83d9-454e-e5be-6da895980777",
        "colab": {
          "base_uri": "https://localhost:8080/",
          "height": 128
        }
      },
      "source": [
        "# Exécutez cette cellule pour installer votre Google Drive.\n",
        "from google.colab import drive\n",
        "drive.mount('/content/drive')"
      ],
      "execution_count": 0,
      "outputs": [
        {
          "output_type": "stream",
          "text": [
            "Go to this URL in a browser: https://accounts.google.com/o/oauth2/auth?client_id=947318989803-6bn6qk8qdgf4n4g3pfee6491hc0brc4i.apps.googleusercontent.com&redirect_uri=urn%3Aietf%3Awg%3Aoauth%3A2.0%3Aoob&scope=email%20https%3A%2F%2Fwww.googleapis.com%2Fauth%2Fdocs.test%20https%3A%2F%2Fwww.googleapis.com%2Fauth%2Fdrive%20https%3A%2F%2Fwww.googleapis.com%2Fauth%2Fdrive.photos.readonly%20https%3A%2F%2Fwww.googleapis.com%2Fauth%2Fpeopleapi.readonly&response_type=code\n",
            "\n",
            "Enter your authorization code:\n",
            "··········\n",
            "Mounted at /content/drive\n"
          ],
          "name": "stdout"
        }
      ]
    },
    {
      "cell_type": "code",
      "metadata": {
        "id": "oJ5F-BeTLY4E",
        "colab_type": "code",
        "outputId": "36b1bb15-bfff-4ed4-da22-2237c58ff575",
        "colab": {
          "base_uri": "https://localhost:8080/",
          "height": 72
        }
      },
      "source": [
        "#le chemain vers les fichiers est le suivant\n",
        "%cd drive/My Drive/Colab Notebooks/my_models/dataset175\n",
        "%pwd\n",
        "%ls"
      ],
      "execution_count": 0,
      "outputs": [
        {
          "output_type": "stream",
          "text": [
            "/content/drive/My Drive/Colab Notebooks/my_models/dataset175\n",
            "\u001b[0m\u001b[01;34mCNN\u001b[0m/      etiquettes.pickle  \u001b[01;34mlogs\u001b[0m/  \u001b[01;34mSAVC\u001b[0m/                t_images.pickle\n",
            "\u001b[01;34mCNNplus\u001b[0m/  images.pickle      \u001b[01;34mSAV\u001b[0m/   t_etiquettes.pickle\n"
          ],
          "name": "stdout"
        }
      ]
    },
    {
      "cell_type": "markdown",
      "metadata": {
        "id": "mY_w5QeEELLf",
        "colab_type": "text"
      },
      "source": [
        "#Sauvegarde du model obtenu\n",
        "\n",
        "la fonction save sauvegarde l'architecture , les poids apres entrainement et les paramétres d'entrainement du model\n",
        "\n",
        "ce qui permet de reprendre l'entrainement au besoin"
      ]
    },
    {
      "cell_type": "code",
      "metadata": {
        "id": "k3BdPZQyLFkx",
        "colab_type": "code",
        "colab": {}
      },
      "source": [
        "path = \"./CNNplus\"\n",
        "sav_rep = os.path.dirname(path)\n",
        "\n",
        "# Create checkpoint callback\n",
        "save = tf.keras.callbacks.ModelCheckpoint(       sav_rep,\n",
        "                                                 save_weights_only=True,\n",
        "                                                 verbose=1)\n"
      ],
      "execution_count": 0,
      "outputs": []
    },
    {
      "cell_type": "markdown",
      "metadata": {
        "id": "QHm9JrCq_jUh",
        "colab_type": "text"
      },
      "source": [
        "# Ajout du moniteur de controle TensorBoard"
      ]
    },
    {
      "cell_type": "code",
      "metadata": {
        "id": "_T8HrETN_jUi",
        "colab_type": "code",
        "colab": {}
      },
      "source": [
        "# indique ou serrons stocké nos versions\n",
        "tb = TensorBoard(log_dir='.logs/{}'.format(int(time.time())),\n",
        "                 write_graph= True )"
      ],
      "execution_count": 0,
      "outputs": []
    },
    {
      "cell_type": "markdown",
      "metadata": {
        "id": "03WG-kTn_jUl",
        "colab_type": "text"
      },
      "source": [
        "#Limitation des fonctionalitées du GPU\n",
        "\n",
        " ici nous précisions que nous utiliserons 33 % du GPU de cette machine , afin de limiter la puissance du GPU à alouer à notre modéle\n",
        " "
      ]
    },
    {
      "cell_type": "code",
      "metadata": {
        "id": "CF5IVDDo_jUl",
        "colab_type": "code",
        "colab": {}
      },
      "source": [
        "#gpu_op = tf.GPUOptions(per_process_gpu_memory_fraction = 0.7)\n",
        "#sess = tf.Session(config = tf.ConfigProto(gpu_options = gpu_op))"
      ],
      "execution_count": 0,
      "outputs": []
    },
    {
      "cell_type": "markdown",
      "metadata": {
        "id": "IxZpEWbG_jUo",
        "colab_type": "text"
      },
      "source": [
        "# chargment du dataset"
      ]
    },
    {
      "cell_type": "code",
      "metadata": {
        "id": "NozPVaCr_jUo",
        "colab_type": "code",
        "colab": {}
      },
      "source": [
        "images_train     = pickle.load(open(\"images.pickle\"    ,\"rb\"))\n",
        "etiquettes_train = pickle.load(open(\"etiquettes.pickle\",\"rb\"))"
      ],
      "execution_count": 0,
      "outputs": []
    },
    {
      "cell_type": "markdown",
      "metadata": {
        "id": "OlJvPXj9_jUq",
        "colab_type": "text"
      },
      "source": [
        "# Normalisation du dataset\n",
        "\n",
        "  Ayant des images (sous forme de tensor) prétraité (55 X55 X1) en niveaux de gris il nous suffit de diviser les valeurs de chaque pixel (encodées sur 8bits) par 255"
      ]
    },
    {
      "cell_type": "code",
      "metadata": {
        "id": "T79hNx5f_jUr",
        "colab_type": "code",
        "colab": {}
      },
      "source": [
        "images_train = images_train / 255.0"
      ],
      "execution_count": 0,
      "outputs": []
    },
    {
      "cell_type": "markdown",
      "metadata": {
        "id": "sX6BVXJV_jUt",
        "colab_type": "text"
      },
      "source": [
        "# Construction du model\n",
        "  \n",
        "  Nous passons comme paramétre de la couche convolutive :\n",
        "   * le nombre de neuronnes qui la compose ici 64\n",
        "   * la taille du filtre qui va parcourir nos images ici (3 , 3)\n",
        "   * le type de données en entrée ici nous prenons la forme de nos images (avec .shape)\n",
        "   * la fonction d'activation de cette couche de neuronnes ici relu\n",
        "  \n",
        "  Nous faisons ensuite succéder à celle-ci une couche dite de *Pooling* dont le role est de parcourir la matrice résultat envoyé par la couche Convolutive pour ensuite la simplifié en ne gardant (dans notre cas) que la valeure maximale locale du filtre appliqué à la matrice résultat ici cette matrice est de taille (2,2)"
      ]
    },
    {
      "cell_type": "code",
      "metadata": {
        "id": "kXt8v7Nh_jUu",
        "colab_type": "code",
        "outputId": "bb007226-413b-4b65-8015-baa0b8d7d925",
        "colab": {
          "base_uri": "https://localhost:8080/",
          "height": 110
        }
      },
      "source": [
        "#Sequentiel définie le type de model (couches successives)\n",
        "notre_model = Sequential()\n",
        "#première couche (une couche de neuronnes convolutifs)\n",
        "notre_model.add(Conv2D(256, (10, 10), input_shape= images_train.shape[1:]) )\n",
        "notre_model.add(Activation(\"relu\"))\n",
        "#ajout d'une couche de dropout\n",
        "notre_model.add(Dropout(rate = 0.3))\n",
        "notre_model.add(Conv2D(128, (7,7)))\n",
        "notre_model.add(Activation(\"relu\"))\n",
        "notre_model.add(MaxPooling2D(pool_size = (4,4)))\n",
        "notre_model.add(Conv2D(64, (5,5)))\n",
        "notre_model.add(Activation(\"relu\"))\n",
        "#seconde couche (NB: dans le cas des CNN la couche de pooling suit toujours celle de convolution)\n",
        "notre_model.add(MaxPooling2D(pool_size = (5,5)))\n",
        "#nous ajoutons au model une seconde couche convolutive similaire à la précédente\n",
        "#NB : que input_shape n'est plus utilisé car il ne sert quand le cas de l'input layer\n",
        "notre_model.add(Conv2D(64, (5,5)))\n",
        "notre_model.add(Activation(\"relu\"))\n",
        "notre_model.add(MaxPooling2D(pool_size = (3,3)))\n"
      ],
      "execution_count": 0,
      "outputs": [
        {
          "output_type": "stream",
          "text": [
            "WARNING: Logging before flag parsing goes to stderr.\n",
            "W0705 09:11:48.351256 140644232419200 deprecation.py:506] From /usr/local/lib/python3.6/dist-packages/tensorflow/python/ops/init_ops.py:1251: calling VarianceScaling.__init__ (from tensorflow.python.ops.init_ops) with dtype is deprecated and will be removed in a future version.\n",
            "Instructions for updating:\n",
            "Call initializer instance with the dtype argument instead of passing it to the constructor\n"
          ],
          "name": "stderr"
        }
      ]
    },
    {
      "cell_type": "markdown",
      "metadata": {
        "id": "crPC7itZ_jUy",
        "colab_type": "text"
      },
      "source": [
        " en générale il est conseiller de mettre une( ou plusieurs) couches de neuronnes totalment connéctées dont le role est d'exploiter les tensores transformées en veteurs (en sortie de la phase de convolution) pour aboutir à une classification"
      ]
    },
    {
      "cell_type": "code",
      "metadata": {
        "id": "R2wMUDfc_jUz",
        "colab_type": "code",
        "colab": {}
      },
      "source": [
        "#cette couche permet de transoformer notre matrice résultat en un vecteur\n",
        "notre_model.add(Flatten())\n",
        "#couche de neuronnes denses\n",
        "notre_model.add(Dense(64))\n",
        "notre_model.add(Activation(\"relu\"))\n",
        "notre_model.add(Dense(16))\n",
        "notre_model.add(Activation(\"relu\"))\n",
        "#couche de sortie\n",
        "notre_model.add(Dense(1))\n",
        "notre_model.add(Activation(\"sigmoid\"))"
      ],
      "execution_count": 0,
      "outputs": []
    },
    {
      "cell_type": "markdown",
      "metadata": {
        "id": "RCsF2UWa_jU1",
        "colab_type": "text"
      },
      "source": [
        "# Entrainement et validation du Model"
      ]
    },
    {
      "cell_type": "markdown",
      "metadata": {
        "id": "it0_LeQI_jU1",
        "colab_type": "text"
      },
      "source": [
        "## Entrainement\n",
        "\n",
        "### paramétrage\n",
        "  Dans ce qui suit nous allons préciser les paramétres d'entrainement de notre model les plus importants étant \n",
        "  \n",
        "  * Loss :\n",
        "         ce paramétre indique la fonction utilisée pour calculer l'ecart entre les résultats du model            et les résultats attendus la fonction choisie ici est *binary_crossentropy*\n",
        "  * Optimizer :\n",
        "          ce paramétre indique la fonction utilisée pour calculer les nouvelles valeurs des poids ,               biais et paramétres variables de notre modéle ici nous utilisons *adam* (une variaante de GD)\n",
        "  * Metrics :\n",
        "          il s'agit de la valeurs que nous souhaitons maitriser et suivre durant cet enentrainement\n",
        "          ici nous il s'agit de la précision *accuracy*\n",
        "   "
      ]
    },
    {
      "cell_type": "code",
      "metadata": {
        "id": "XnTNhfED_jU2",
        "colab_type": "code",
        "colab": {}
      },
      "source": [
        "#mean_squared_error\n",
        "#binary_crossentropy\n",
        "notre_model.compile(loss      = \"mean_squared_error\", \n",
        "                    optimizer = \"adam\",\n",
        "                    metrics   = ['accuracy'])"
      ],
      "execution_count": 0,
      "outputs": []
    },
    {
      "cell_type": "markdown",
      "metadata": {
        "id": "HqK1cHiN5PS8",
        "colab_type": "text"
      },
      "source": [
        "### resumé des poid de notre reseau couche par couche"
      ]
    },
    {
      "cell_type": "code",
      "metadata": {
        "id": "NpDeVk25HxN5",
        "colab_type": "code",
        "outputId": "5550be03-e6b3-4e10-dada-2cd5609e1dda",
        "colab": {
          "base_uri": "https://localhost:8080/",
          "height": 854
        }
      },
      "source": [
        "notre_model.summary()"
      ],
      "execution_count": 0,
      "outputs": [
        {
          "output_type": "stream",
          "text": [
            "Model: \"sequential\"\n",
            "_________________________________________________________________\n",
            "Layer (type)                 Output Shape              Param #   \n",
            "=================================================================\n",
            "conv2d (Conv2D)              (None, 166, 166, 256)     25856     \n",
            "_________________________________________________________________\n",
            "activation (Activation)      (None, 166, 166, 256)     0         \n",
            "_________________________________________________________________\n",
            "dropout (Dropout)            (None, 166, 166, 256)     0         \n",
            "_________________________________________________________________\n",
            "conv2d_1 (Conv2D)            (None, 160, 160, 128)     1605760   \n",
            "_________________________________________________________________\n",
            "activation_1 (Activation)    (None, 160, 160, 128)     0         \n",
            "_________________________________________________________________\n",
            "max_pooling2d (MaxPooling2D) (None, 40, 40, 128)       0         \n",
            "_________________________________________________________________\n",
            "conv2d_2 (Conv2D)            (None, 36, 36, 64)        204864    \n",
            "_________________________________________________________________\n",
            "activation_2 (Activation)    (None, 36, 36, 64)        0         \n",
            "_________________________________________________________________\n",
            "max_pooling2d_1 (MaxPooling2 (None, 7, 7, 64)          0         \n",
            "_________________________________________________________________\n",
            "conv2d_3 (Conv2D)            (None, 3, 3, 64)          102464    \n",
            "_________________________________________________________________\n",
            "activation_3 (Activation)    (None, 3, 3, 64)          0         \n",
            "_________________________________________________________________\n",
            "max_pooling2d_2 (MaxPooling2 (None, 1, 1, 64)          0         \n",
            "_________________________________________________________________\n",
            "flatten (Flatten)            (None, 64)                0         \n",
            "_________________________________________________________________\n",
            "dense (Dense)                (None, 64)                4160      \n",
            "_________________________________________________________________\n",
            "activation_4 (Activation)    (None, 64)                0         \n",
            "_________________________________________________________________\n",
            "dense_1 (Dense)              (None, 16)                1040      \n",
            "_________________________________________________________________\n",
            "activation_5 (Activation)    (None, 16)                0         \n",
            "_________________________________________________________________\n",
            "dense_2 (Dense)              (None, 1)                 17        \n",
            "_________________________________________________________________\n",
            "activation_6 (Activation)    (None, 1)                 0         \n",
            "=================================================================\n",
            "Total params: 1,944,161\n",
            "Trainable params: 1,944,161\n",
            "Non-trainable params: 0\n",
            "_________________________________________________________________\n"
          ],
          "name": "stdout"
        }
      ]
    },
    {
      "cell_type": "markdown",
      "metadata": {
        "id": "DZUB6mIc_jU4",
        "colab_type": "text"
      },
      "source": [
        "### lancement de l'entrainement\n",
        "\n",
        " ici nous précisions les données en entrée(images_train , etiquettes_train) et le nombre de passes que subirons nos données (epoch) et le nombre de données à traiter avant d'opérer un ajustement des paramétrs (batch_size) et la quantité de données à laisser de coté pour la phase de validation (validation_split)"
      ]
    },
    {
      "cell_type": "code",
      "metadata": {
        "id": "QsQUWH6cDYBu",
        "colab_type": "code",
        "outputId": "cf869213-d86e-451a-cff9-bbf05c725e30",
        "colab": {
          "base_uri": "https://localhost:8080/",
          "height": 35
        }
      },
      "source": [
        "%cd CNNplus "
      ],
      "execution_count": 0,
      "outputs": [
        {
          "output_type": "stream",
          "text": [
            "/content/drive/My Drive/Colab Notebooks/my_models/dataset175/CNNplus\n"
          ],
          "name": "stdout"
        }
      ]
    },
    {
      "cell_type": "code",
      "metadata": {
        "id": "JebMWAJL_jU5",
        "colab_type": "code",
        "outputId": "6ba312c5-6382-4328-e4da-994b55c307c7",
        "colab": {
          "base_uri": "https://localhost:8080/",
          "height": 199
        }
      },
      "source": [
        "notre_model.fit(images_train,etiquettes_train ,batch_size = 55 ,epochs = 2 ,validation_split = 0.1,callbacks=[tb,save])"
      ],
      "execution_count": 0,
      "outputs": [
        {
          "output_type": "stream",
          "text": [
            "Train on 4708 samples, validate on 524 samples\n",
            "Epoch 1/2\n",
            "4675/4708 [============================>.] - ETA: 1s - loss: 0.1935 - acc: 0.7455\n",
            "Epoch 00001: saving model to .\n",
            "4708/4708 [==============================] - 174s 37ms/sample - loss: 0.1937 - acc: 0.7462 - val_loss: 0.2157 - val_acc: 0.8473\n",
            "Epoch 2/2\n",
            "4675/4708 [============================>.] - ETA: 0s - loss: 0.1396 - acc: 0.8088\n",
            "Epoch 00002: saving model to .\n",
            "4708/4708 [==============================] - 139s 29ms/sample - loss: 0.1394 - acc: 0.8090 - val_loss: 0.0871 - val_acc: 0.8798\n"
          ],
          "name": "stdout"
        },
        {
          "output_type": "execute_result",
          "data": {
            "text/plain": [
              "<tensorflow.python.keras.callbacks.History at 0x7fe9f855ea20>"
            ]
          },
          "metadata": {
            "tags": []
          },
          "execution_count": 15
        }
      ]
    },
    {
      "cell_type": "markdown",
      "metadata": {
        "id": "inqsa_r7_jU-",
        "colab_type": "text"
      },
      "source": [
        "# Test et validation finale"
      ]
    },
    {
      "cell_type": "markdown",
      "metadata": {
        "id": "9O_yCGh8_jU_",
        "colab_type": "text"
      },
      "source": [
        "## importation et pretraitment des données de test\n",
        "\n",
        "\n",
        "\n",
        "\n"
      ]
    },
    {
      "cell_type": "code",
      "metadata": {
        "id": "koWD7m1Q_jVA",
        "colab_type": "code",
        "outputId": "acea6089-d912-4778-bba1-e386e99c1753",
        "colab": {
          "base_uri": "https://localhost:8080/",
          "height": 35
        }
      },
      "source": [
        "%cd ..\n",
        "images_test     = pickle.load(open(\"t_images.pickle\"    ,\"rb\"))\n",
        "etiquettes_test = pickle.load(open(\"t_etiquettes.pickle\",\"rb\"))\n",
        "images_test = images_test / 255.0"
      ],
      "execution_count": 0,
      "outputs": [
        {
          "output_type": "stream",
          "text": [
            "/content/drive/My Drive/Colab Notebooks/my_models/dataset175\n"
          ],
          "name": "stdout"
        }
      ]
    },
    {
      "cell_type": "markdown",
      "metadata": {
        "id": "53Z54Okd_jVC",
        "colab_type": "text"
      },
      "source": [
        "## test et validation"
      ]
    },
    {
      "cell_type": "code",
      "metadata": {
        "id": "Gxd05vnG_jVC",
        "colab_type": "code",
        "outputId": "b5b570aa-4d29-49bb-c239-5dc40089a57d",
        "colab": {
          "base_uri": "https://localhost:8080/",
          "height": 72
        }
      },
      "source": [
        "val_loss , val_acc = notre_model.evaluate(images_test , etiquettes_test)\n",
        "\n",
        "print (\" le valeur de Loss est de \" , val_loss) \n",
        "print (\" le valeur de la precision est de \",val_acc) "
      ],
      "execution_count": 0,
      "outputs": [
        {
          "output_type": "stream",
          "text": [
            "624/624 [==============================] - 8s 12ms/sample - loss: 0.1077 - acc: 0.8510\n",
            " le valeur de Loss est de  0.10765756819492732\n",
            " le valeur de la precision est de  0.85096157\n"
          ],
          "name": "stdout"
        }
      ]
    },
    {
      "cell_type": "code",
      "metadata": {
        "id": "bPL_zMb9_jVH",
        "colab_type": "code",
        "colab": {}
      },
      "source": [
        "a = notre_model.predict(images_test)"
      ],
      "execution_count": 0,
      "outputs": []
    },
    {
      "cell_type": "code",
      "metadata": {
        "id": "Sn-aWB4W_jVJ",
        "colab_type": "code",
        "colab": {}
      },
      "source": [
        "pred = []\n",
        "for i in a :\n",
        "  if i > 0.5 :\n",
        "    pred.append(1)\n",
        "  else :\n",
        "    pred.append(0)"
      ],
      "execution_count": 0,
      "outputs": []
    },
    {
      "cell_type": "code",
      "metadata": {
        "id": "LiWUFn_PpaKk",
        "colab_type": "code",
        "outputId": "a6a17575-d38d-463f-cbae-64f906b1a29f",
        "colab": {
          "base_uri": "https://localhost:8080/",
          "height": 55
        }
      },
      "source": [
        "print(pred)"
      ],
      "execution_count": 0,
      "outputs": [
        {
          "output_type": "stream",
          "text": [
            "[1, 1, 0, 0, 0, 1, 1, 0, 0, 0, 0, 0, 1, 0, 1, 1, 1, 0, 0, 1, 1, 1, 1, 0, 1, 1, 0, 1, 1, 1, 0, 0, 0, 0, 1, 0, 0, 0, 1, 1, 1, 0, 1, 1, 1, 1, 1, 1, 1, 1, 1, 1, 1, 1, 0, 0, 1, 0, 0, 0, 0, 1, 0, 1, 1, 1, 1, 0, 0, 0, 0, 1, 1, 1, 0, 1, 1, 1, 0, 1, 1, 1, 1, 1, 1, 1, 1, 0, 1, 1, 1, 1, 1, 0, 1, 1, 1, 0, 1, 0, 1, 1, 1, 1, 0, 0, 1, 1, 0, 1, 1, 1, 0, 0, 1, 1, 1, 1, 0, 0, 1, 1, 1, 1, 1, 1, 1, 0, 0, 1, 1, 1, 1, 1, 1, 0, 1, 0, 0, 1, 1, 1, 1, 0, 1, 1, 1, 0, 1, 0, 1, 1, 0, 0, 1, 1, 1, 1, 0, 1, 1, 1, 1, 0, 1, 1, 1, 1, 0, 1, 1, 1, 0, 1, 1, 1, 1, 0, 0, 0, 1, 1, 1, 1, 0, 0, 1, 1, 0, 1, 1, 1, 1, 0, 0, 1, 1, 1, 0, 1, 0, 1, 1, 1, 1, 0, 1, 1, 0, 1, 1, 1, 1, 1, 1, 1, 1, 1, 0, 0, 0, 0, 1, 1, 1, 1, 1, 0, 0, 1, 1, 1, 0, 1, 1, 1, 1, 0, 1, 1, 1, 0, 1, 1, 1, 0, 1, 1, 0, 1, 0, 1, 1, 0, 1, 1, 1, 1, 0, 0, 1, 1, 1, 1, 1, 1, 1, 0, 1, 1, 1, 0, 0, 1, 1, 0, 0, 1, 1, 0, 0, 0, 1, 0, 1, 0, 1, 0, 0, 0, 1, 0, 1, 1, 1, 1, 1, 1, 1, 1, 1, 1, 0, 0, 0, 1, 0, 1, 1, 1, 1, 1, 0, 1, 0, 1, 1, 0, 0, 1, 0, 1, 1, 0, 0, 1, 1, 1, 0, 1, 1, 1, 1, 0, 0, 0, 1, 1, 0, 0, 0, 1, 1, 1, 0, 1, 1, 1, 1, 1, 1, 0, 0, 1, 1, 1, 1, 1, 1, 1, 1, 1, 1, 1, 0, 1, 1, 1, 1, 0, 0, 1, 1, 1, 1, 0, 1, 1, 1, 1, 1, 0, 1, 1, 1, 0, 0, 1, 1, 1, 1, 0, 0, 1, 0, 1, 0, 1, 1, 1, 1, 0, 1, 1, 1, 1, 0, 1, 1, 1, 1, 0, 0, 1, 1, 1, 0, 1, 1, 0, 0, 0, 1, 0, 0, 1, 1, 1, 0, 1, 0, 1, 1, 1, 1, 1, 1, 0, 1, 1, 1, 1, 0, 0, 0, 0, 1, 1, 1, 1, 1, 0, 0, 0, 1, 0, 0, 0, 0, 1, 0, 1, 1, 0, 0, 1, 1, 1, 1, 1, 0, 1, 1, 1, 1, 1, 0, 1, 1, 1, 1, 1, 1, 1, 1, 0, 0, 1, 0, 1, 1, 0, 0, 1, 0, 0, 0, 1, 1, 1, 0, 1, 1, 1, 0, 1, 1, 0, 1, 1, 1, 1, 1, 0, 0, 1, 1, 0, 1, 1, 1, 1, 1, 0, 1, 1, 0, 1, 1, 1, 1, 0, 1, 1, 0, 0, 0, 1, 1, 1, 1, 0, 1, 0, 0, 1, 1, 1, 0, 1, 1, 0, 0, 1, 0, 1, 0, 1, 1, 1, 1, 0, 1, 1, 1, 0, 0, 1, 1, 1, 1, 1, 0, 0, 1, 1, 1, 0, 0, 1, 1, 1, 1, 1, 0, 1, 1, 1, 1, 0, 1, 1, 1, 1, 1, 0, 1, 1, 0, 1, 0, 1, 1, 1, 1, 1, 0, 1, 1, 0, 1, 1, 0, 1, 1, 0, 0, 0, 1, 1, 1, 1, 1, 1]\n"
          ],
          "name": "stdout"
        }
      ]
    },
    {
      "cell_type": "code",
      "metadata": {
        "id": "xHsThkTEq4vC",
        "colab_type": "code",
        "outputId": "aa482cc1-c59a-49b5-a743-3ea5ae95574c",
        "colab": {
          "base_uri": "https://localhost:8080/",
          "height": 54
        }
      },
      "source": [
        "from sklearn.metrics import confusion_matrix\n",
        "cm = confusion_matrix(etiquettes_test, pred)\n",
        "print(cm)"
      ],
      "execution_count": 0,
      "outputs": [
        {
          "output_type": "stream",
          "text": [
            "[[174  60]\n",
            " [ 33 357]]\n"
          ],
          "name": "stdout"
        }
      ]
    },
    {
      "cell_type": "code",
      "metadata": {
        "id": "mOTAdKUcQGrs",
        "colab_type": "code",
        "outputId": "0a2c6351-ebca-4d97-c2dd-72e196097160",
        "colab": {
          "base_uri": "https://localhost:8080/",
          "height": 54
        }
      },
      "source": [
        "sensibilite = cm[1,1] / ( cm[1,1] + cm [1,0] )\n",
        "print(\"la sensibilité de notre model est de : \", sensibilite)\n",
        "specificite = cm[0,0] / ( cm[0,0] + cm[0,1] )\n",
        "print(\"la specificité de notre model est de : \", specificite)"
      ],
      "execution_count": 0,
      "outputs": [
        {
          "output_type": "stream",
          "text": [
            "la sensibilité de notre model est de :  0.9153846153846154\n",
            "la specificité de notre model est de :  0.7435897435897436\n"
          ],
          "name": "stdout"
        }
      ]
    },
    {
      "cell_type": "markdown",
      "metadata": {
        "id": "uCgW5zs6TLS3",
        "colab_type": "text"
      },
      "source": [
        "#Chargement du model sauvegardé"
      ]
    },
    {
      "cell_type": "code",
      "metadata": {
        "id": "ts3i7ropRKQi",
        "colab_type": "code",
        "colab": {}
      },
      "source": [
        "model = Sequential()\n",
        "model.add(Conv2D(256, (3, 3), input_shape= images_train.shape[1:]) )\n",
        "model.add(Activation(\"relu\"))\n",
        "model.add(Dropout(rate = 0.3))\n",
        "model.add(Conv2D(128, (3,3)))\n",
        "model.add(Activation(\"relu\"))\n",
        "model.add(MaxPooling2D(pool_size = (4,4)))\n",
        "model.add(Conv2D(64, (5,5)))\n",
        "model.add(Activation(\"relu\"))\n",
        "model.add(MaxPooling2D(pool_size = (5,5)))\n",
        "model.add(Conv2D(64, (5,5)))\n",
        "model.add(Activation(\"relu\"))\n",
        "model.add(MaxPooling2D(pool_size = (3,3)))\n",
        "model.add(Flatten())\n",
        "model.add(Dense(64))\n",
        "model.add(Activation(\"relu\"))\n",
        "model.add(Dense(16))\n",
        "model.add(Activation(\"relu\"))\n",
        "model.add(Dense(1))\n",
        "model.add(Activation(\"sigmoid\"))\n",
        "model.compile(loss      = \"mean_squared_error\",\n",
        "                    optimizer = \"adam\",\n",
        "                    metrics   = ['accuracy'])"
      ],
      "execution_count": 0,
      "outputs": []
    },
    {
      "cell_type": "code",
      "metadata": {
        "id": "O_jwE1eMQPu7",
        "colab_type": "code",
        "outputId": "f15c5624-f1c3-4c41-8558-54d01953cab0",
        "colab": {
          "base_uri": "https://localhost:8080/",
          "height": 72
        }
      },
      "source": [
        "%cd CNNplus\n",
        "model.load_weights(\".\")\n",
        "loss, acc = model.evaluate(images_test , etiquettes_test)\n",
        "print(\"Restored model, accuracy: {:5.2f}%\".format(100*acc))"
      ],
      "execution_count": 0,
      "outputs": [
        {
          "output_type": "stream",
          "text": [
            "/content/drive/My Drive/Colab Notebooks/my_models/dataset175/CNNplus\n",
            "624/624 [==============================] - 3s 5ms/sample - loss: 0.1077 - acc: 0.8510\n",
            "Restored model, accuracy: 85.10%\n"
          ],
          "name": "stdout"
        }
      ]
    },
    {
      "cell_type": "code",
      "metadata": {
        "id": "CNSzKbcB044q",
        "colab_type": "code",
        "colab": {}
      },
      "source": [
        "from google.colab import files\n",
        "import IPython.display "
      ],
      "execution_count": 0,
      "outputs": []
    },
    {
      "cell_type": "code",
      "metadata": {
        "id": "Arxnuq5-2_I-",
        "colab_type": "code",
        "outputId": "d72b98da-ba33-43b9-b598-76f6ff9b6c88",
        "colab": {
          "resources": {
            "http://localhost:8080/nbextensions/google.colab/files.js": {
              "data": "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",
              "ok": true,
              "headers": [
                [
                  "content-type",
                  "application/javascript"
                ]
              ],
              "status": 200,
              "status_text": ""
            }
          },
          "base_uri": "https://localhost:8080/",
          "height": 75
        }
      },
      "source": [
        "im = files.upload()"
      ],
      "execution_count": 0,
      "outputs": [
        {
          "output_type": "display_data",
          "data": {
            "text/html": [
              "\n",
              "     <input type=\"file\" id=\"files-4e4f2419-a953-438d-a2e2-6533fb55b28c\" name=\"files[]\" multiple disabled />\n",
              "     <output id=\"result-4e4f2419-a953-438d-a2e2-6533fb55b28c\">\n",
              "      Upload widget is only available when the cell has been executed in the\n",
              "      current browser session. Please rerun this cell to enable.\n",
              "      </output>\n",
              "      <script src=\"/nbextensions/google.colab/files.js\"></script> "
            ],
            "text/plain": [
              "<IPython.core.display.HTML object>"
            ]
          },
          "metadata": {
            "tags": []
          }
        },
        {
          "output_type": "stream",
          "text": [
            "Saving IM-0001-0001.jpeg to IM-0001-0001 (1).jpeg\n"
          ],
          "name": "stdout"
        }
      ]
    },
    {
      "cell_type": "code",
      "metadata": {
        "id": "1IdNsclX3YeY",
        "colab_type": "code",
        "colab": {}
      },
      "source": [
        "import matplotlib.pyplot as plt\n",
        "import cv2"
      ],
      "execution_count": 0,
      "outputs": []
    },
    {
      "cell_type": "code",
      "metadata": {
        "id": "PopeVu8C3tRC",
        "colab_type": "code",
        "outputId": "312219d2-5abb-4f2f-c3ed-7d27a6f3977a",
        "colab": {
          "base_uri": "https://localhost:8080/",
          "height": 287
        }
      },
      "source": [
        "i = cv2.imread('IM-0001-0001 (1).jpeg')\n",
        "plt.imshow(i,cmap = \"gray\" )"
      ],
      "execution_count": 0,
      "outputs": [
        {
          "output_type": "execute_result",
          "data": {
            "text/plain": [
              "<matplotlib.image.AxesImage at 0x7fbddf097e48>"
            ]
          },
          "metadata": {
            "tags": []
          },
          "execution_count": 5
        },
        {
          "output_type": "display_data",
          "data": {
            "image/png": "[encoded data removed]",
            "text/plain": [
              "<Figure size 432x288 with 1 Axes>"
            ]
          },
          "metadata": {
            "tags": []
          }
        }
      ]
    },
    {
      "cell_type": "code",
      "metadata": {
        "id": "P9P5zLxC5DWD",
        "colab_type": "code",
        "colab": {}
      },
      "source": [
        ""
      ],
      "execution_count": 0,
      "outputs": []
    }
  ]
}